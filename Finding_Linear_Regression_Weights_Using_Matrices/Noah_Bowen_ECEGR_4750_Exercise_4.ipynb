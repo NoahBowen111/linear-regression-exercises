{
 "cells": [
  {
   "cell_type": "code",
   "execution_count": 50,
   "id": "395101fb-664b-4ba5-ad6e-60d2d73276d4",
   "metadata": {},
   "outputs": [
    {
     "name": "stdout",
     "output_type": "stream",
     "text": [
      "[[1928.     12.2    12.3    12.3 ]\n",
      " [1932.     11.9    11.9    12.  ]\n",
      " [1936.     11.5    11.7    11.9 ]\n",
      " [1948.     11.9    12.2    12.2 ]\n",
      " [1952.     11.5    11.8    11.9 ]\n",
      " [1956.     11.5    11.7    11.7 ]\n",
      " [1960.     11.     11.3    11.3 ]\n",
      " [1964.     11.4    11.6    11.6 ]\n",
      " [1968.     11.     11.1    11.1 ]\n",
      " [1972.     11.07   11.23   11.24]\n",
      " [1976.     11.08   11.13   11.17]\n",
      " [1980.     11.06   11.07   11.14]\n",
      " [1984.     10.97   11.13   11.16]\n",
      " [1988.     10.54   10.83   10.85]\n",
      " [1992.     10.82   10.83   10.84]\n",
      " [1996.     10.94   10.94   10.96]\n",
      " [2000.     11.12   11.18     nan]\n",
      " [2004.     10.93   10.96   10.97]\n",
      " [2008.     10.78   10.98   10.97]]\n",
      "Male 100 Meter Weights\n",
      "[ 3.64164559e+01 -1.33308857e-02]\n",
      "Female 100 Meter Weights\n",
      "[ 4.09241546e+01 -1.50718122e-02]\n"
     ]
    }
   ],
   "source": [
    "import pandas as pd\n",
    "import numpy as np\n",
    "from scipy.io import loadmat\n",
    "import statsmodels.api as sm\n",
    "\n",
    "dataset_mat = loadmat(\"olympics.mat\")\n",
    "dataset_mat.keys()\n",
    "male100_gold = dataset_mat['male100'].transpose()[1][:]\n",
    "male100_year = dataset_mat['male100'].transpose()[0][:]\n",
    "male100_year = sm.add_constant(male100_year)\n",
    "female100_gold = dataset_mat['female100'].transpose()[1][:]\n",
    "female100_year = dataset_mat['female100'].transpose()[0][:]\n",
    "female100_year = sm.add_constant(female100_year)\n",
    "print(dataset_mat['female100'])\n",
    "\n",
    "male100_weights = np.matmul(np.linalg.inv(np.matmul(male100_year.transpose(), male100_year)),np.matmul(male100_year.transpose(), male100_gold))\n",
    "print(\"Male 100 Meter Weights\")\n",
    "print(male100_weights)\n",
    "female100_weights = np.matmul(np.linalg.inv(np.matmul(female100_year.transpose(), female100_year)),np.matmul(female100_year.transpose(), female100_gold))\n",
    "print(\"Female 100 Meter Weights\")\n",
    "print(female100_weights)"
   ]
  },
  {
   "cell_type": "code",
   "execution_count": null,
   "id": "8d6127de-61f2-498b-938f-a27cfcc6a285",
   "metadata": {},
   "outputs": [],
   "source": []
  }
 ],
 "metadata": {
  "kernelspec": {
   "display_name": "Python (3.9)",
   "language": "python",
   "name": "py39"
  },
  "language_info": {
   "codemirror_mode": {
    "name": "ipython",
    "version": 3
   },
   "file_extension": ".py",
   "mimetype": "text/x-python",
   "name": "python",
   "nbconvert_exporter": "python",
   "pygments_lexer": "ipython3",
   "version": "3.9.18"
  }
 },
 "nbformat": 4,
 "nbformat_minor": 5
}
